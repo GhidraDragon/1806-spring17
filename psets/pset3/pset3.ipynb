{
 "cells": [
  {
   "cell_type": "markdown",
   "metadata": {},
   "source": [
    "# 18.06 pset 3\n",
    "\n",
    "Due **Wednesday March 1** at 11am.  \n",
    "\n",
    "Note: **Exam 1** is on Friday **March 3** in room **50-340**."
   ]
  },
  {
   "cell_type": "markdown",
   "metadata": {},
   "source": [
    "## Problem 1\n",
    "\n",
    "Suppose that you solve $AX = B$ with\n",
    "$$\n",
    "B = \\begin{pmatrix}\n",
    "1 & 1 & 1 & 1  \\\\\n",
    "0 & 2 & 2 & 2  \\\\\n",
    "0 & 0 & 1 & 1  \\\\\n",
    "0 & 0 & 0 & 1  \\\\\n",
    "\\end{pmatrix}\n",
    "$$\n",
    "and find that $X$ is\n",
    "$$\n",
    "X = \\begin{pmatrix}\n",
    "1 & 1 & 0 & 1 \\\\\n",
    "0 & 0 & 1 & 0 \\\\\n",
    "1 & 3 & 1 & 0 \\\\\n",
    "2 & 0 & 0 & 1 \\\\\n",
    "\\end{pmatrix}\n",
    "$$\n",
    "\n",
    "### (a)\n",
    "\n",
    "What is $A^{-1}$?\n",
    "\n",
    "(You should not have to apply brute-force Gaussian elimination to invert any matrices, nor should you use Julia in this part. You should be able to show how to do this quickly *by hand*.)\n",
    "\n",
    "(This is not because we care about hand calculation *per se*, but rather because it is useful to be able to recognize and exploit special structure in matrices, and to understand the relationship between solving systems of right-hand-sides and finding $A^{-1}$.)\n",
    "\n",
    "### (b)\n",
    "\n",
    "Evaluate a simple expression to *check* your answer from (a) by brute-force calculation in Julia.\n",
    "\n",
    "For example, you can compute $B^{-1} X^{-1}$ by `inv(B) * inv(X)` in Julia.  There should be some simple product of matrices or matrix inverses that gives $A^{-1}$. Figure it out!"
   ]
  },
  {
   "cell_type": "code",
   "execution_count": null,
   "metadata": {
    "collapsed": false
   },
   "outputs": [],
   "source": [
    "# here are the matrices B and X in Julia form\n",
    "B = [1 1 1 1\n",
    "     0 2 2 2\n",
    "     0 0 1 1\n",
    "     0 0 0 1]\n",
    "X = [1 1 0 1\n",
    "     0 0 1 0\n",
    "     1 3 1 0\n",
    "     2 0 0 1]"
   ]
  },
  {
   "cell_type": "code",
   "execution_count": null,
   "metadata": {
    "collapsed": false
   },
   "outputs": [],
   "source": [
    "# inv(B) * inv(X) ## FIX THIS: change to an expression that will give A⁻¹, and evaluate\n",
    "\n",
    "import numpy as np\n",
    "inv_B = np.linalg.inv(B)\n",
    "inv_X = np.linalg.inv(X)\n",
    "\n",
    "np.dot(inv_B, inv_X)\n",
    "\n"
   ]
  },
  {
   "cell_type": "markdown",
   "metadata": {},
   "source": [
    "## Problem 2\n",
    "\n",
    "Consider the vector space $\\mathcal{M}$ of $m \\times m$ real-valued matrices for some $m$, say $m=4$.  True or false (and provide a counter-example if *false*).  \n",
    "\n",
    "1. The symmetric matrices in $\\mathcal{M}$ are a subspace (matrices with $A^T = A$).\n",
    "2. The \"skew-symmetric (also called \"antisymmetric\") matrices (those with $A^T = -A$) in $\\mathcal{M}$ are a subspace.\n",
    "3. The invertible matrices in $\\mathcal{M}$ are a subspace.\n",
    "4. The singular matrices in $\\mathcal{M}$ are a subspace."
   ]
  },
  {
   "cell_type": "markdown",
   "metadata": {},
   "source": [
    "## Problem 3\n",
    "\n",
    "(Strang, section 3.2, problem 22.) If $AB=0$ then the column space of $B$ is contained in the `______` of $A$.  Why?"
   ]
  },
  {
   "cell_type": "markdown",
   "metadata": {},
   "source": [
    "## Problem 4\n",
    "\n",
    "(Strang, section 3.2, problem 29.) If $A$ is $4 \\times 4$ and invertible, what is the nullspace of the $4\\times8$ matrix $B = \\begin{pmatrix} A & A \\end{pmatrix}$?"
   ]
  },
  {
   "cell_type": "markdown",
   "metadata": {},
   "source": [
    "## Problem 5\n",
    "\n",
    "(Strang, section 3.2, problem 23.) The reduced-row echelon form $R$ of a $3\\times3$ matrix with randomly chosen entries is almost sure to be `_________`.   What $R$ is virtually certain if the random matrix is $4 \\times 3$?"
   ]
  },
  {
   "cell_type": "markdown",
   "metadata": {},
   "source": [
    "## Problem 6\n",
    "\n",
    "(Strang, section 3.2, problem 58.)  Suppose $R$ is $m \\times n$ of rank $r$, with pivot columns first:\n",
    "\n",
    "$$\n",
    "R = \\begin{pmatrix} I & F \\\\ 0 & 0 \\end{pmatrix}\n",
    "$$\n",
    "\n",
    "where $I$ is an identity matrix and $0$ denotes a block of zeros.  \n",
    "\n",
    "1. What are the shapes of those four blocks of $R$?\n",
    "2. Find a *right-inverse* matrix $B$ such that $RB=I$ if $r=m$ (the zero blocks are gone).\n",
    "4. What is the reduced-row echelon form of $R^T$?\n",
    "5. What is the reduced-row echelon form of $R^T R$?\n",
    "\n",
    "(In the last four parts, indicate both blocks like $I$ or $0$ and their shapes.)"
   ]
  }
 ],
 "metadata": {
  "anaconda-cloud": {},
  "kernelspec": {
   "display_name": "Julia 0.5.0",
   "language": "julia",
   "name": "julia-0.5"
  },
  "language_info": {
   "file_extension": ".jl",
   "mimetype": "application/julia",
   "name": "julia",
   "version": "0.5.0"
  }
 },
 "nbformat": 4,
 "nbformat_minor": 1
}
